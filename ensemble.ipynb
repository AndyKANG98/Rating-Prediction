{
 "cells": [
  {
   "cell_type": "code",
   "execution_count": 1,
   "metadata": {},
   "outputs": [],
   "source": [
    "import pandas as pd\n",
    "import numpy as np"
   ]
  },
  {
   "cell_type": "markdown",
   "metadata": {},
   "source": [
    "# Val"
   ]
  },
  {
   "cell_type": "markdown",
   "metadata": {},
   "source": [
    "after ensemble - VALIDATION RMSE:  1.0210420495271597"
   ]
  },
  {
   "cell_type": "code",
   "execution_count": 5,
   "metadata": {},
   "outputs": [],
   "source": [
    "val_1 = pd.read_csv('val_pre_1.csv')\n",
    "val_2 = pd.read_csv('val_pre_2.csv')\n",
    "val_3 = pd.read_csv('val_pre_3.csv')\n",
    "val_4 = pd.read_csv('val_pre_4.csv')\n",
    "val_5 = pd.read_csv('val_pre_5.csv')"
   ]
  },
  {
   "cell_type": "code",
   "execution_count": 7,
   "metadata": {},
   "outputs": [],
   "source": [
    "val_all = val_1[['user_id', 'business_id']]"
   ]
  },
  {
   "cell_type": "code",
   "execution_count": 8,
   "metadata": {},
   "outputs": [],
   "source": [
    "val_all['stars_1'] = val_1['stars']\n",
    "val_all['stars_2'] = val_2['stars']\n",
    "val_all['stars_3'] = val_3['stars']\n",
    "val_all['stars_4'] = val_4['stars']\n",
    "val_all['stars_5'] = val_5['stars']"
   ]
  },
  {
   "cell_type": "code",
   "execution_count": 13,
   "metadata": {},
   "outputs": [],
   "source": [
    "val_all['stars'] = val_all.mean(axis=1)"
   ]
  },
  {
   "cell_type": "code",
   "execution_count": 15,
   "metadata": {},
   "outputs": [],
   "source": [
    "val_all[['user_id', 'business_id', 'stars']].to_csv('val_pre.csv', index=False)"
   ]
  },
  {
   "cell_type": "markdown",
   "metadata": {},
   "source": [
    "# Test"
   ]
  },
  {
   "cell_type": "code",
   "execution_count": 16,
   "metadata": {},
   "outputs": [],
   "source": [
    "te_1 = pd.read_csv('te_pre_1.csv')\n",
    "te_2 = pd.read_csv('te_pre_2.csv')\n",
    "te_3 = pd.read_csv('te_pre_3.csv')\n",
    "te_4 = pd.read_csv('te_pre_4.csv')\n",
    "te_5 = pd.read_csv('te_pre_5.csv')"
   ]
  },
  {
   "cell_type": "code",
   "execution_count": 17,
   "metadata": {},
   "outputs": [],
   "source": [
    "te_all = te_1[['user_id', 'business_id']]\n",
    "te_all['stars_1'] = te_1['stars']\n",
    "te_all['stars_2'] = te_2['stars']\n",
    "te_all['stars_3'] = te_3['stars']\n",
    "te_all['stars_4'] = te_4['stars']\n",
    "te_all['stars_5'] = te_5['stars']"
   ]
  },
  {
   "cell_type": "code",
   "execution_count": 18,
   "metadata": {},
   "outputs": [],
   "source": [
    "te_all['stars'] = te_all.mean(axis=1)"
   ]
  },
  {
   "cell_type": "code",
   "execution_count": 21,
   "metadata": {},
   "outputs": [],
   "source": [
    "te_all[['user_id', 'business_id', 'stars']].to_csv('pred.csv', index=False)"
   ]
  },
  {
   "cell_type": "code",
   "execution_count": null,
   "metadata": {},
   "outputs": [],
   "source": []
  }
 ],
 "metadata": {
  "kernelspec": {
   "display_name": "Python 3",
   "language": "python",
   "name": "python3"
  },
  "language_info": {
   "codemirror_mode": {
    "name": "ipython",
    "version": 3
   },
   "file_extension": ".py",
   "mimetype": "text/x-python",
   "name": "python",
   "nbconvert_exporter": "python",
   "pygments_lexer": "ipython3",
   "version": "3.6.10"
  }
 },
 "nbformat": 4,
 "nbformat_minor": 4
}
